{
  "nbformat": 4,
  "nbformat_minor": 0,
  "metadata": {
    "colab": {
      "name": "Simple Linear Regression.ipynb",
      "version": "0.3.2",
      "provenance": []
    },
    "kernelspec": {
      "name": "python3",
      "display_name": "Python 3"
    }
  },
  "cells": [
    {
      "cell_type": "code",
      "metadata": {
        "id": "6BckuRfLWRG8",
        "colab_type": "code",
        "outputId": "857d1d11-1a00-4a60-fcd1-914a8aa1ac97",
        "colab": {
          "base_uri": "https://localhost:8080/",
          "height": 102
        }
      },
      "source": [
        "#importing libraries in order to get a generic model, \n",
        "from sklearn import linear_model\n",
        "from sklearn.metrics import mean_squared_error, r2_score\n",
        "import matplotlib.pylot as plt\n",
        "\n",
        "#variables to pull the arrays to train\n",
        "x_train=[[1],[2],[3],[4],[5]]\n",
        "y_train=[[2],[4],[6],[8],[10]]\n",
        "\n",
        "#initializing the linear regression model \n",
        "stinky=linear_model.LinearRegression()\n",
        "\n",
        "#dot mean starting function, fit=train\n",
        "stinky.fit(x_train,y_train)\n",
        "\n",
        "#regression where one variable is dependent on the other variable - indp and \n",
        "#dependent var\n",
        "x_test=[[14],[15],[16],[17]]\n",
        "y_test=stinky.predict(x_test)\n",
        "\n",
        "#function parameters of showing \n",
        "print(x_test)\n",
        "print(y_test)\n",
        "\n"
      ],
      "execution_count": 0,
      "outputs": [
        {
          "output_type": "stream",
          "text": [
            "[[14], [15], [16], [17]]\n",
            "[[28.]\n",
            " [30.]\n",
            " [32.]\n",
            " [34.]]\n"
          ],
          "name": "stdout"
        }
      ]
    },
    {
      "cell_type": "code",
      "metadata": {
        "id": "lOl460W-duuB",
        "colab_type": "code",
        "colab": {}
      },
      "source": [
        ""
      ],
      "execution_count": 0,
      "outputs": []
    }
  ]
}